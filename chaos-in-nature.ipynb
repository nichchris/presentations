{
 "cells": [
  {
   "cell_type": "markdown",
   "metadata": {
    "slideshow": {
     "slide_type": "notes"
    }
   },
   "source": [
    "Notes:\n",
    "    \n",
    "https://www.markroepke.me/posts/2019/06/05/tips-for-slideshows-in-jupyter.html"
   ]
  },
  {
   "cell_type": "code",
   "execution_count": null,
   "metadata": {
    "slideshow": {
     "slide_type": "notes"
    }
   },
   "outputs": [],
   "source": [
    "def hide_code_in_slideshow():   \n",
    "    from IPython import display\n",
    "    import binascii\n",
    "    import os\n",
    "    uid = binascii.hexlify(os.urandom(8)).decode()    \n",
    "    html = \"\"\"<div id=\"%s\"></div>\n",
    "    <script type=\"text/javascript\">\n",
    "        $(function(){\n",
    "            var p = $(\"#%s\");\n",
    "            if (p.length==0) return;\n",
    "            while (!p.hasClass(\"cell\")) {\n",
    "                p=p.parent();\n",
    "                if (p.prop(\"tagName\") ==\"body\") return;\n",
    "            }\n",
    "            var cell = p;\n",
    "            cell.find(\".input\").addClass(\"hide-in-slideshow\")\n",
    "        });\n",
    "    </script>\"\"\" % (uid, uid)\n",
    "    display.display_html(html, raw=True)"
   ]
  },
  {
   "cell_type": "code",
   "execution_count": 5,
   "metadata": {
    "slideshow": {
     "slide_type": "notes"
    }
   },
   "outputs": [],
   "source": [
    "# imports\n",
    "import numpy as np\n",
    "import scipy as sp\n",
    "import h5py\n",
    "import scipy.constants as const\n",
    "import matplotlib\n",
    "import matplotlib.pyplot as plt\n",
    "import matplotlib.cm\n",
    "from matplotlib import rc\n",
    "from matplotlib.pyplot import cm\n",
    "from matplotlib import colors as mcolors\n",
    "import matplotlib.patches as mpatches\n",
    "import matplotlib.lines as mlines\n",
    "from mpl_toolkits.mplot3d import Axes3D\n",
    "import numpy.matlib\n",
    "import time\n",
    "from scipy.io import savemat, loadmat\n",
    "\n",
    "#from cycler import cycler\n",
    "from matplotlib.backends.backend_pdf import PdfPages  # Save multiple plots to one pdf\n",
    "from matplotlib.ticker import AutoMinorLocator  # For minor ticks on axes\n",
    "from matplotlib.ticker import MaxNLocator  # Force integers on 2axes\n",
    "from scipy.signal import argrelextrema  # To find maxima/minima\n",
    "from pathlib import Path\n",
    "import re\n",
    "# import itertools\n",
    "from itertools import cycle\n",
    "import pandas as pd\n",
    "import os"
   ]
  },
  {
   "cell_type": "markdown",
   "metadata": {
    "slideshow": {
     "slide_type": "slide"
    }
   },
   "source": [
    "# A simple method for detecting chaos in nature"
   ]
  },
  {
   "cell_type": "markdown",
   "metadata": {
    "slideshow": {
     "slide_type": "subslide"
    }
   },
   "source": [
    "<center>Toker, D., Sommer, F. T., & D’Esposito, M. (2020). A simple method for detecting chaos in nature. Communications biology, 3(1), 1-13.\n",
    "\n",
    "<center>\n",
    "Journal Club, 28.10.2020\n",
    "\n",
    "<center>\n",
    "Nicholas Christiansen"
   ]
  },
  {
   "cell_type": "markdown",
   "metadata": {
    "slideshow": {
     "slide_type": "subslide"
    }
   },
   "source": [
    "## Overview\n",
    "\n",
    "- What is chaos\n",
    "- Mathematical description\n",
    "    - Predator prey model\n",
    "    - Bifurcations\n",
    "    - The Lorenz Function\n",
    "- Detecting chaos\n",
    "    - Method\n",
    "    - Results and discussion\n",
    "- Discussion points"
   ]
  },
  {
   "cell_type": "markdown",
   "metadata": {
    "slideshow": {
     "slide_type": "slide"
    }
   },
   "source": [
    "# What is chaos?\n",
    "\n"
   ]
  },
  {
   "cell_type": "code",
   "execution_count": 6,
   "metadata": {
    "slideshow": {
     "slide_type": "skip"
    }
   },
   "outputs": [],
   "source": [
    "import math\n",
    "from PIL import Image\n",
    "imgx = 1000\n",
    "imgy = 500\n",
    "image = Image.new(\"RGB\", (imgx, imgy))\n",
    "\n",
    "xa = 2.9\n",
    "xb = 4.0\n",
    "maxit = 1000\n",
    "\n",
    "for i in range(imgx):\n",
    "    r = xa + (xb - xa) * float(i) / (imgx - 1)\n",
    "    x = 0.5\n",
    "    for j in range(maxit):\n",
    "        x = r * x * (1 - x)\n",
    "        if j > maxit / 2:\n",
    "            image.putpixel((i, int(x * imgy)), (255, 255, 255))\n",
    "\n",
    "image.save(\"Bifurcation.png\", \"PNG\")\n",
    "#plt.imshow(image)"
   ]
  },
  {
   "cell_type": "markdown",
   "metadata": {
    "slideshow": {
     "slide_type": "subslide"
    }
   },
   "source": [
    "### <center>Bifurcation diagram\n",
    "\n",
    "$$ x = r \\cdot x (1 - x)$$\n",
    "\n",
    "<center>\n",
    "    \n",
    "<img src=\"Bifurcation.png\">\n",
    "</center>"
   ]
  },
  {
   "cell_type": "code",
   "execution_count": 24,
   "metadata": {
    "slideshow": {
     "slide_type": "notes"
    }
   },
   "outputs": [],
   "source": [
    "#https://scipy-lectures.org/intro/numpy/auto_examples/plot_mandelbrot.html\n",
    "from numpy import newaxis\n",
    "\n",
    "def compute_mandelbrot(N_max, some_threshold, nx, ny):\n",
    "    # A grid of c-values\n",
    "    x = np.linspace(-2, 1, nx)\n",
    "    y = np.linspace(-1.5, 1.5, ny)\n",
    "\n",
    "    c = x[:,newaxis] + 1j*y[newaxis,:]\n",
    "\n",
    "    # Mandelbrot iteration\n",
    "\n",
    "    z = c\n",
    "\n",
    "    # The code below overflows in many regions of the x-y grid, suppress\n",
    "    # warnings temporarily\n",
    "    with np.warnings.catch_warnings():\n",
    "        np.warnings.simplefilter(\"ignore\")\n",
    "        for j in range(N_max):\n",
    "            z = z**2 + c\n",
    "        mandelbrot_set = (abs(z) < some_threshold)\n",
    "\n",
    "    return mandelbrot_set\n",
    "\n",
    "mandelbrot_set = compute_mandelbrot(50, 50., 601, 401)\n",
    "\n",
    "im = Image.fromarray(mandelbrot_set.T)\n",
    "im.save(\"Mandelbrot.png\", \"PNG\")"
   ]
  },
  {
   "cell_type": "markdown",
   "metadata": {
    "slideshow": {
     "slide_type": "subslide"
    }
   },
   "source": [
    "### <center>Mandelbrot fractal\n",
    "\n",
    "<center>\n",
    "    \n",
    "<img src=\"Mandelbrot.png\">\n",
    "</center>\n"
   ]
  },
  {
   "cell_type": "code",
   "execution_count": null,
   "metadata": {
    "slideshow": {
     "slide_type": "slide"
    }
   },
   "outputs": [],
   "source": []
  },
  {
   "cell_type": "code",
   "execution_count": null,
   "metadata": {},
   "outputs": [],
   "source": []
  },
  {
   "cell_type": "code",
   "execution_count": null,
   "metadata": {},
   "outputs": [],
   "source": []
  },
  {
   "cell_type": "code",
   "execution_count": null,
   "metadata": {},
   "outputs": [],
   "source": []
  }
 ],
 "metadata": {
  "celltoolbar": "Slideshow",
  "kernelspec": {
   "display_name": "Python 3",
   "language": "python",
   "name": "python3"
  },
  "language_info": {
   "codemirror_mode": {
    "name": "ipython",
    "version": 3
   },
   "file_extension": ".py",
   "mimetype": "text/x-python",
   "name": "python",
   "nbconvert_exporter": "python",
   "pygments_lexer": "ipython3",
   "version": "3.8.3"
  }
 },
 "nbformat": 4,
 "nbformat_minor": 4
}
