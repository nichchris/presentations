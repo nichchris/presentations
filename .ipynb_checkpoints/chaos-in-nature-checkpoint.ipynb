{
 "cells": [
  {
   "cell_type": "code",
   "execution_count": 19,
   "metadata": {
    "scrolled": true,
    "slideshow": {
     "slide_type": "notes"
    }
   },
   "outputs": [
    {
     "data": {
      "text/html": [
       "<script>\n",
       "showcode=true; \n",
       "function code_toggle() {\n",
       "  if (showcode) {\n",
       "    $('div.input').each(function(id) {\n",
       "      el = $(this).find('.cm-variable:first');\n",
       "      if (id == 0 || el.text() == 'hide_me') {\n",
       "        $(this).hide();\n",
       "      }\n",
       "    });\n",
       "    $('div.output_prompt').css('opacity', 0);\n",
       "  } else {\n",
       "    $('div.input').each(function(id) {\n",
       "      $(this).show();\n",
       "    });\n",
       "    $('div.output_prompt').css('opacity', 1);\n",
       "  }\n",
       "  showcode = !showcode\n",
       "} \n",
       "$( document ).ready(code_toggle);\n",
       "</script>\n",
       "<form action=\"javascript:code_toggle()\"><input style=\"opacity:0\" type=\"submit\" value=\"Click here to toggle on/off the raw code.\"></form>"
      ],
      "text/plain": [
       "<IPython.core.display.HTML object>"
      ]
     },
     "execution_count": 19,
     "metadata": {},
     "output_type": "execute_result"
    }
   ],
   "source": [
    "# This must be at first cell\n",
    "# This is a cell to hide code snippets from displaying\n",
    "\n",
    "from IPython.display import HTML\n",
    "hide_me = ''\n",
    "HTML('''<script>\n",
    "showcode=true; \n",
    "function code_toggle() {\n",
    "  if (showcode) {\n",
    "    $('div.input').each(function(id) {\n",
    "      el = $(this).find('.cm-variable:first');\n",
    "      if (id == 0 || el.text() == 'hide_me') {\n",
    "        $(this).hide();\n",
    "      }\n",
    "    });\n",
    "    $('div.output_prompt').css('opacity', 0);\n",
    "  } else {\n",
    "    $('div.input').each(function(id) {\n",
    "      $(this).show();\n",
    "    });\n",
    "    $('div.output_prompt').css('opacity', 1);\n",
    "  }\n",
    "  showcode = !showcode\n",
    "} \n",
    "$( document ).ready(code_toggle);\n",
    "</script>\n",
    "<form action=\"javascript:code_toggle()\"><input style=\"opacity:0\" type=\"submit\" value=\"Click here to toggle on/off the raw code.\"></form>''')"
   ]
  },
  {
   "cell_type": "markdown",
   "metadata": {
    "slideshow": {
     "slide_type": "notes"
    }
   },
   "source": [
    "Notes:\n",
    "    \n",
    "https://www.markroepke.me/posts/2019/06/05/tips-for-slideshows-in-jupyter.html"
   ]
  },
  {
   "cell_type": "code",
   "execution_count": 20,
   "metadata": {
    "slideshow": {
     "slide_type": "notes"
    }
   },
   "outputs": [],
   "source": [
    "# imports\n",
    "import numpy as np\n",
    "import scipy as sp\n",
    "import h5py\n",
    "import scipy.constants as const\n",
    "import matplotlib\n",
    "import matplotlib.pyplot as plt\n",
    "import matplotlib.cm\n",
    "from matplotlib import rc\n",
    "from matplotlib.pyplot import cm\n",
    "from matplotlib import colors as mcolors\n",
    "import matplotlib.patches as mpatches\n",
    "import matplotlib.lines as mlines\n",
    "from mpl_toolkits.mplot3d import Axes3D\n",
    "import numpy.matlib\n",
    "import time\n",
    "from scipy.io import savemat, loadmat\n",
    "\n",
    "#from cycler import cycler\n",
    "from matplotlib.backends.backend_pdf import PdfPages  # Save multiple plots to one pdf\n",
    "from matplotlib.ticker import AutoMinorLocator  # For minor ticks on axes\n",
    "from matplotlib.ticker import MaxNLocator  # Force integers on 2axes\n",
    "from scipy.signal import argrelextrema  # To find maxima/minima\n",
    "from pathlib import Path\n",
    "import re\n",
    "# import itertools\n",
    "from itertools import cycle\n",
    "import pandas as pd\n",
    "import os"
   ]
  },
  {
   "cell_type": "markdown",
   "metadata": {
    "slideshow": {
     "slide_type": "slide"
    }
   },
   "source": [
    "# A simple method for detecting chaos in nature"
   ]
  },
  {
   "cell_type": "markdown",
   "metadata": {
    "slideshow": {
     "slide_type": "subslide"
    }
   },
   "source": [
    "<center>Toker, D., Sommer, F. T., & D’Esposito, M. (2020). A simple method for detecting chaos in nature. Communications biology, 3(1), 1-13.\n",
    "\n",
    "<center>\n",
    "Journal Club, 28.10.2020\n",
    "\n",
    "<center>\n",
    "Nicholas Christiansen"
   ]
  },
  {
   "cell_type": "markdown",
   "metadata": {
    "slideshow": {
     "slide_type": "subslide"
    }
   },
   "source": [
    "## Overview\n",
    "\n",
    "- What is chaos\n",
    "- Mathematical description\n",
    "    - Predator prey model\n",
    "    - Bifurcations\n",
    "    - The Lorenz Function\n",
    "- Detecting chaos\n",
    "    - Method\n",
    "    - Results and discussion\n",
    "- Discussion points"
   ]
  },
  {
   "cell_type": "markdown",
   "metadata": {
    "slideshow": {
     "slide_type": "slide"
    }
   },
   "source": [
    "# What is chaos?\n",
    "\n"
   ]
  },
  {
   "cell_type": "code",
   "execution_count": 22,
   "metadata": {
    "slideshow": {
     "slide_type": "notes"
    }
   },
   "outputs": [],
   "source": [
    "import math\n",
    "from PIL import Image\n",
    "imgx = 1000\n",
    "imgy = 500\n",
    "image = Image.new(\"RGB\", (imgx, imgy))\n",
    "\n",
    "xa = 2.9\n",
    "xb = 4.0\n",
    "maxit = 1000\n",
    "\n",
    "for i in range(imgx):\n",
    "    r = xa + (xb - xa) * float(i) / (imgx - 1)\n",
    "    x = 0.5\n",
    "    for j in range(maxit):\n",
    "        x = r * x * (1 - x)\n",
    "        if j > maxit / 2:\n",
    "            image.putpixel((i, int(x * imgy)), (255, 255, 255))\n",
    "\n",
    "image.save(\"Bifurcation.png\", \"PNG\")\n",
    "#plt.imshow(image)"
   ]
  },
  {
   "cell_type": "markdown",
   "metadata": {
    "slideshow": {
     "slide_type": "subslide"
    }
   },
   "source": [
    "### <center>Bifurcation diagram\n",
    "\n",
    "$$ x = r \\cdot x (1 - x)$$\n",
    "\n",
    "<center>\n",
    "    \n",
    "<img src=\"Bifurcation.png\">\n",
    "</center>"
   ]
  },
  {
   "cell_type": "markdown",
   "metadata": {
    "cell_style": "split",
    "slideshow": {
     "slide_type": "subslide"
    }
   },
   "source": [
    "### <center>Mandelbrot fractal\n"
   ]
  },
  {
   "cell_type": "code",
   "execution_count": 23,
   "metadata": {
    "cell_style": "split",
    "scrolled": true,
    "slideshow": {
     "slide_type": "-"
    }
   },
   "outputs": [
    {
     "data": {
      "image/png": "[encoded data removed]",
      "text/plain": [
       "<Figure size 432x288 with 1 Axes>"
      ]
     },
     "metadata": {
      "needs_background": "light"
     },
     "output_type": "display_data"
    }
   ],
   "source": [
    "hide_me\n",
    "#https://scipy-lectures.org/intro/numpy/auto_examples/plot_mandelbrot.html\n",
    "from numpy import newaxis\n",
    "\n",
    "def compute_mandelbrot(N_max, some_threshold, nx, ny):\n",
    "    # A grid of c-values\n",
    "    x = np.linspace(-2, 1, nx)\n",
    "    y = np.linspace(-1.5, 1.5, ny)\n",
    "\n",
    "    c = x[:,newaxis] + 1j*y[newaxis,:]\n",
    "\n",
    "    # Mandelbrot iteration\n",
    "\n",
    "    z = c\n",
    "\n",
    "    # The code below overflows in many regions of the x-y grid, suppress\n",
    "    # warnings temporarily\n",
    "    with np.warnings.catch_warnings():\n",
    "        np.warnings.simplefilter(\"ignore\")\n",
    "        for j in range(N_max):\n",
    "            z = z**2 + c\n",
    "        mandelbrot_set = (abs(z) < some_threshold)\n",
    "\n",
    "    return mandelbrot_set\n",
    "\n",
    "mandelbrot_set = compute_mandelbrot(50, 50., 601, 401)\n",
    "\n",
    "\n",
    "plt.imshow(mandelbrot_set.T, extent=[-2, 1, -1.5, 1.5])\n",
    "plt.gray()\n",
    "fig = plt.gcf()\n",
    "fig.savefig('Mandelbrot.png')"
   ]
  },
  {
   "cell_type": "markdown",
   "metadata": {
    "slideshow": {
     "slide_type": "subslide"
    }
   },
   "source": [
    "## Chaotic systems\n",
    "\n",
    "- Small change in initial positions yields large deviations\n",
    "- Determinant (same input yields same result)"
   ]
  },
  {
   "cell_type": "markdown",
   "metadata": {
    "cell_style": "split",
    "slideshow": {
     "slide_type": "subslide"
    }
   },
   "source": [
    "Different types of signals\n",
    "\n",
    "Stochastic noise \n",
    "\n",
    "Linear stochastic\n",
    "\n",
    "Chaotic"
   ]
  },
  {
   "cell_type": "code",
   "execution_count": null,
   "metadata": {
    "cell_style": "split"
   },
   "outputs": [],
   "source": []
  },
  {
   "cell_type": "code",
   "execution_count": null,
   "metadata": {
    "cell_style": "split"
   },
   "outputs": [],
   "source": []
  },
  {
   "cell_type": "code",
   "execution_count": null,
   "metadata": {
    "cell_style": "split"
   },
   "outputs": [],
   "source": []
  },
  {
   "cell_type": "markdown",
   "metadata": {
    "slideshow": {
     "slide_type": "-"
    }
   },
   "source": [
    "## phase space"
   ]
  },
  {
   "cell_type": "code",
   "execution_count": null,
   "metadata": {
    "slideshow": {
     "slide_type": "notes"
    }
   },
   "outputs": [],
   "source": [
    "\n",
    "#Lorenz equations\n",
    "\n",
    "@njit\n",
    "def xDot(sigma,x,y):\n",
    "    return sigma*(y-x)\n",
    "\n",
    "@njit\n",
    "def yDot(rho,x,y,z):\n",
    "    return (x*(rho-z)-y)\n",
    "\n",
    "@njit\n",
    "def zDot(beta,x,y,z):\n",
    "    return (x*y-beta*z)\n",
    "\n",
    "#Timestep function for the 4th order Runge-Kutta routine\n",
    "@njit\n",
    "def timeStep(sigma,rho,beta,x,y,z,dt):\n",
    "    k1x = xDot(sigma,x,y)\n",
    "    k1y = yDot(rho,x,y,z)\n",
    "    k1z = zDot(beta,x,y,z)\n",
    "\n",
    "    k2x = xDot(sigma,x+0.5*dt*k1x,y)\n",
    "    k2y = yDot(rho,x,y+0.5*dt*k1y,z)\n",
    "    k2z = zDot(beta,x,y,z+0.5*dt*k1z)\n",
    "\n",
    "    k3x = xDot(sigma,x+0.5*dt*k2x,y)\n",
    "    k3y = yDot(rho,x,y+0.5*dt*k2y,z)\n",
    "    k3z = zDot(beta,x,y,z+0.5*dt*k2z)\n",
    "\n",
    "    k4x = xDot(sigma,x+dt*k3x,y)\n",
    "    k4y = yDot(rho,x,y+dt*k3y,z)\n",
    "    k4z = zDot(beta,x,y,z+dt*k3z)\n",
    "\n",
    "    x+=dt/6*(k1x+2*k2x+2*k3x+k4x)\n",
    "    y+=dt/6*(k1y+2*k2y+2*k3y+k4y)\n",
    "    z+=dt/6*(k1z+2*k2z+2*k3z+k4z)\n",
    "\n",
    "    return x,y,z\n",
    "\n",
    "#time evolve the system\n",
    "def timeEvolution(sigma,rho,beta,x0,y0,z0,t_0,t_end,dt):\n",
    "    N = int((t_end-t_0)/dt)\n",
    "    x = np.zeros(N+1)\n",
    "    y = np.zeros(N+1)\n",
    "    z = np.zeros(N+1)\n",
    "    T = np.zeros(N+1)\n",
    "    x[0],y[0],z[0] = x0, y0, z0\n",
    "    for i in range(N):\n",
    "        x[i+1],y[i+1],z[i+1] = timeStep(sigma,rho,beta,x[i],y[i],z[i],dt)\n",
    "        T[i+1] = T[i]+dt\n",
    "    return x,y,z,T\n",
    "\n",
    "def RandSphere(x0):\n",
    "    rand_ons = np.random.randn(3)\n",
    "    rand_ons /= np.linalg.norm(rand_ons, axis=0)\n",
    "    rand_ons = rand_ons*1e-6\n",
    "    rand_ons[0] = rand_ons[0] + x0[0]\n",
    "    rand_ons[1] = rand_ons[1] + x0[1]\n",
    "    rand_ons[2] = rand_ons[2] + x0[2]\n",
    "    return rand_ons\n",
    "\n",
    "def RandTwo(x0):\n",
    "    dx = np.random.uniform(-1, 1, size = 3)\n",
    "    dx = 1e-6 * dx / np.sqrt(np.sum(dx**2))\n",
    "    x1 = x0+dx\n",
    "    return x1\n",
    "\n",
    "#Code partly inspired by: https://github.com/nordam/TFY4305/blob/master/Notebooks/Problem_2_Lorenz.ipynb\n",
    "\n",
    "@njit\n",
    "def lorenz(x, sigma, rho, beta):\n",
    "    xdot = sigma*(x[1] - x[0])\n",
    "    ydot = x[0]*(rho - x[2]) - x[1]\n",
    "    zdot = x[0]*x[1] - beta*x[2]\n",
    "    return np.array([xdot, ydot, zdot])\n",
    "\n",
    "@njit\n",
    "def lorenz_f(x, t):\n",
    "    sigma = 10.0\n",
    "    rho   = 28.0\n",
    "    beta  = 8/3\n",
    "    return lorenz(x, sigma, rho, beta)\n",
    "\n",
    "\n",
    "def delSig(x0, x1):\n",
    "    return np.sqrt(np.sum((x0 - x1)**2, axis = 1))\n",
    "\n",
    "def easyLorenz():\n",
    "    x0 = 1e-2 * np.random.random(size = 3) + 0.1#np.random.randn(3)*1e-6\n",
    "    x1= RandTwo(x0)\n",
    "    T = 26\n",
    "    t  = np.linspace(0, T, 5000)\n",
    "    X0 = odeint(lorenz_f, x0, t)\n",
    "    X1 = odeint(lorenz_f, x1, t)\n",
    "    del_sig = delSig(X0, X1)\n",
    "    (lam,), pcov = curve_fit(exp, t[int(np.floor(len(t)/2)):], del_sig[int(np.floor(len(t)/2)):])\n",
    "    return lam, del_sig[int(np.floor(len(t)/2)):], t[int(np.floor(len(t)/2)):]\n",
    "\n",
    "def exp(x, a):\n",
    "    return 1e-6 * np.exp(a*x)\n",
    "\n",
    "#rossler system\n",
    "\n",
    "@njit\n",
    "def rossler(x, a, b, c):\n",
    "    xdot = -x[1] - x[2]\n",
    "    ydot = x[0] + a*x[1]\n",
    "    zdot = b + x[2]*(x[0] - c)\n",
    "    return np.array([xdot, ydot, zdot])\n",
    "\n",
    "@njit\n",
    "def rossler_f(x, t):\n",
    "    a = 0.2\n",
    "    b = 0.2\n",
    "    c = 5.7\n",
    "    return rossler(x, a,b,c)\n",
    "\n",
    "def easyRoss():\n",
    "    x0 = 1e-2 * np.random.random(size = 3) + 0.1#np.random.randn(3)*1e-6\n",
    "    x1= RandTwo(x0)\n",
    "    dt = 0.001\n",
    "    T = 230\n",
    "    t  = np.linspace(0, T, T/dt)\n",
    "    X0 = odeint(rossler_f, x0, t)\n",
    "    X1 = odeint(rossler_f, x1, t)\n",
    "    del_sig = delSig(X0, X1)\n",
    "    (lam,), pcov = curve_fit(exp, t, del_sig, maxfev=1000)\n",
    "    return lam, del_sig, t\n",
    "\n",
    "\n",
    "#initial conditions\n",
    "sigma = 10.\n",
    "rho = 28.\n",
    "beta = 8./3\n",
    "dt = 0.001\n",
    "x0 = 0.001\n",
    "y0 = 0.001\n",
    "z0 = 0.001\n",
    "T = 50\n",
    "\n",
    "# #solve the Lorenz equations until from time 0 to time T\n",
    "x,y,z,T = timeEvolution(sigma,rho,beta,x0,y0,z0,0,T,dt)\n",
    "\n",
    "\n",
    "#plot the solution to the Lorenz equations\n",
    "fig_lor, axis_lor = plt.subplots(1,1)\n",
    "\n",
    "axis_lor.plot(x,z)\n",
    "axis_lor.set_xlabel('$x$')\n",
    "axis_lor.set_ylabel('$z$')\n",
    "\n",
    "fig_lor.savefig('fig_lor.pdf')\n",
    "\n",
    "#2a:\n",
    "fig_z_t, axis_z_t = plt.subplots(1,1)\n",
    "\n",
    "axis_z_t.plot(T,z)\n",
    "axis_z_t.set_xlabel('$t$')\n",
    "axis_z_t.set_ylabel('$z$')\n",
    "\n",
    "fig_z_t.savefig('fig_z_t.pdf')\n",
    "\n",
    "\n",
    "\n",
    "\n",
    "#2b\n",
    "\n",
    "T = 10e5\n",
    "x,y,z,T = timeEvolution(sigma,rho,beta,x0,y0,z0,0,T,dt)\n",
    "\n",
    "z_maxima_pos = argrelextrema(z, np.greater)\n",
    "\n",
    "z_maxima = z[z_maxima_pos]\n",
    "\n",
    "print(type(z_maxima))\n",
    "\n",
    "fig_z_z, axis_z_z = plt.subplots(1,1)\n",
    "\n",
    "axis_z_z.plot(z_maxima[:-1],z_maxima[1:], 'o')\n",
    "axis_z_z.set_xlabel('$z_n$')\n",
    "axis_z_z.set_ylabel('$z_{n+1}$')\n",
    "\n",
    "fig_z_z.savefig('fig_z_z.pdf')\n",
    "\n",
    "\n",
    "#\n",
    "#\n",
    "# #solve the Lorenz equations until from time 0 to time T\n",
    "\n",
    "#x,y,z,T = timeEvolution(sigma,rho,beta,x0[0],x0[1],x0[2],0,T,dt)\n",
    "#x0,y0,z0,T0 = timeEvolution(sigma,rho,beta,x0[0],x0[1],x0[2],0,T,dt)\n",
    "#x1,y1,z1,T1 = timeEvolution(sigma,rho,beta,x1[0],x1[1],x1[2],0,T,dt)\n",
    "#\n",
    "x0 = 1e-2 * np.random.random(size = 3) + 0.1#np.random.randn(3)*1e-6\n",
    "x1= RandTwo(x0)\n",
    "T = 30\n",
    "t  = np.linspace(0, T, 5000)\n",
    "X0 = odeint(lorenz_f, x0, t)\n",
    "X1 = odeint(lorenz_f, x1, t)\n",
    "\n",
    "#plot the solution to the Lorenz equations\n",
    "fig_lor_rand1, axis_lor_rand1 = plt.subplots(1,1)\n",
    "\n",
    "axis_lor_rand1.plot(X0[:,0],X0[:,2])\n",
    "axis_lor_rand1.plot(X1[:,0],X1[:,2])\n",
    "axis_lor_rand1.set_xlabel('$x$')\n",
    "axis_lor_rand1.set_ylabel('$z$')\n",
    "\n",
    "fig_lor_rand1.savefig('fig_lor_rand_nor2.pdf')\n",
    "\n",
    "\n",
    "del_sig = delSig(X0, X1)\n",
    "\n",
    "fig_lor_sigma, axis_lor_sigma = plt.subplots(1,1)\n",
    "\n",
    "axis_lor_sigma.plot(t, np.log(del_sig))\n",
    "\n",
    "axis_lor_sigma.set_xlabel('$t$')\n",
    "axis_lor_sigma.set_ylabel('$log( \\delta)$')\n",
    "\n",
    "fig_lor_sigma.savefig('fig_lor_sigma.pdf')\n",
    "\n",
    "\n",
    "fig_lor_sigma3, axis_lor_sigma3 = plt.subplots(1,1)\n",
    "\n",
    "axis_lor_sigma3.plot(t[int(np.floor(len(t)/2)):], np.log(del_sig[int(np.floor(len(t)/2)):]))\n",
    "\n",
    "axis_lor_sigma3.set_xlabel('$t$')\n",
    "axis_lor_sigma3.set_ylabel('$log( \\delta)$')\n",
    "\n",
    "(a,), pcov = curve_fit(exp, t[int(np.floor(len(t)/2)):], del_sig[int(np.floor(len(t)/2)):])\n",
    "axis_lor_sigma3.plot(t[int(np.floor(len(t)/2)):], np.log(exp(t[int(np.floor(len(t)/2)):], a)), label = '$\\delta_0 \\exp(t\\cdot%.03f)$' % a)\n",
    "\n",
    "axis_lor_sigma3.legend()\n",
    "fig_lor_sigma3.savefig('fig_lor_sigm3a.pdf')\n",
    "\n",
    "\n",
    "fig_easy_lor, axis_easy_lor = plt.subplots(1,1)\n",
    "\n",
    "liapunov = 0\n",
    "N = 100\n",
    "for i in range(N):\n",
    "    lam, del_sig, t = easyLorenz()\n",
    "    axis_easy_lor.plot(t, np.log(exp(t, lam)))\n",
    "    axis_easy_lor.plot(t, np.log(del_sig))\n",
    "    liapunov+=lam\n",
    "\n",
    "axis_easy_lor.set_xlabel('$t$')\n",
    "axis_easy_lor.set_ylabel('$log( \\delta)$')\n",
    "\n",
    "fig_easy_lor.savefig('fig_easy2.pdf')\n",
    "\n",
    "print(liapunov/N)\n",
    "#\n"
   ]
  },
  {
   "cell_type": "markdown",
   "metadata": {},
   "source": [
    "Lorentz function"
   ]
  },
  {
   "cell_type": "code",
   "execution_count": null,
   "metadata": {},
   "outputs": [],
   "source": []
  },
  {
   "cell_type": "markdown",
   "metadata": {},
   "source": [
    "Lyapunov exponent\n",
    "\n",
    "Neighbouring trajectories separate exponentially fast. Comparable to the diameter of the attractor\n",
    "largest $\\lambda$ is called the Liapunoiv exponent"
   ]
  },
  {
   "cell_type": "code",
   "execution_count": null,
   "metadata": {},
   "outputs": [],
   "source": []
  }
 ],
 "metadata": {
  "celltoolbar": "Slideshow",
  "kernelspec": {
   "display_name": "Python 3",
   "language": "python",
   "name": "python3"
  },
  "language_info": {
   "codemirror_mode": {
    "name": "ipython",
    "version": 3
   },
   "file_extension": ".py",
   "mimetype": "text/x-python",
   "name": "python",
   "nbconvert_exporter": "python",
   "pygments_lexer": "ipython3",
   "version": "3.6.9"
  }
 },
 "nbformat": 4,
 "nbformat_minor": 4
}
